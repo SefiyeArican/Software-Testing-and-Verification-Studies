{
 "cells": [
  {
   "cell_type": "code",
   "execution_count": 8,
   "id": "55a2971e-ff69-480b-a8b8-903de5f3262b",
   "metadata": {},
   "outputs": [
    {
     "name": "stdout",
     "output_type": "stream",
     "text": [
      "Site: https://www.n11.com/\n",
      "LCP Değeri: 0.00 ms\n",
      "LCP Sonucu: İyi\n"
     ]
    }
   ],
   "source": [
    "from selenium import webdriver  #Tarayıcı otomasyonu için WebDriver API'si\n",
    "from selenium.webdriver.chrome.service import Service  #Chrome WebDriver hizmeti için yapılandırma\n",
    "from webdriver_manager.chrome import ChromeDriverManager  #ChromeDriver'ı otomatik indirip kurar\n",
    "\n",
    "#LCP ölçümü yapılacak websitenin URL'si\n",
    "url = \"https://www.n11.com/\"\n",
    "\n",
    "#webdriver-manager kullanarak webdriver kurulumu\n",
    "driver = webdriver.Chrome(service=Service(ChromeDriverManager().install()))\n",
    "\n",
    "try:\n",
    "    driver.get(url)\n",
    "    \n",
    "    driver.implicitly_wait(10) #Sayfanın tamamen yüklenmesini beklemek için sabit bir süre (10 saniye)\n",
    "\n",
    "    #LCP ölçümü için JavaScript kodu\n",
    "    lcp_script = \"\"\"\n",
    "        let largestContentfulPaint = 0;\n",
    "        const observer = new PerformanceObserver((list) => {\n",
    "            const entries = list.getEntries();\n",
    "            entries.forEach((entry) => {\n",
    "                if(entry.startTime > largestContentfulPaint){\n",
    "                    largestContentfulPaint=entry.startTime;\n",
    "                }\n",
    "            });\n",
    "        });\n",
    "        observer.observe({type: 'largest-contentful-paint', buffered: true});\n",
    "\n",
    "        document.addEventListener('visibilitychange', () => {\n",
    "            if (document.visibilityState === 'hidden'){\n",
    "                observer.disconnect();\n",
    "            }\n",
    "        });\n",
    "\n",
    "        // DOM yüklenmesi beklenir\n",
    "        window.onload = () => {\n",
    "            setTimeout(() => {\n",
    "                observer.disconnect();\n",
    "            }, 5000); //5 saniye sonra observer durdurulur\n",
    "        };\n",
    "        return largestContentfulPaint;\n",
    "    \"\"\"\n",
    "    #JavaScript kodu çalıştırılarak LCP değeri alınır\n",
    "    lcp_value = driver.execute_script(lcp_script)\n",
    "\n",
    "    #LCP değerine göre sonucu İyi, Geliştirilebilir\n",
    "    if lcp_value < 2500:  # 2.5 saniyeden küçükse \"İyi\" olarak kabul edilir\n",
    "        result = \"İyi\"\n",
    "    elif lcp_value < 4000:  # 2.5 ile 4 saniye arasındaysa \"Geliştirilebilir\" olarak kabul edilir\n",
    "        result = \"Geliştirilebilir\"\n",
    "    else:  # 4 saniyeden büyükse \"Kötü\" olarak kabul edilir\n",
    "        result = \"Kötü\"\n",
    "\n",
    "    # Sonuçları yazdır\n",
    "    print(f\"Site: {url}\")\n",
    "    print(f\"LCP Değeri: {lcp_value:.2f} ms\")  # LCP değerini milisaniye cinsinden yazdır\n",
    "    print(f\"LCP Sonucu: {result}\")  # LCP sonucu\n",
    "\n",
    "except Exception as e:\n",
    "    # Eğer bir hata oluşursa hata mesajını yazdır\n",
    "    print(f\"Hata oluştu: {e}\")\n",
    "\n",
    "finally:\n",
    "    # İşlem tamamlandığında driver'ı kapat\n",
    "    driver.quit()\n"
   ]
  },
  {
   "cell_type": "code",
   "execution_count": null,
   "id": "8718b9f1-43f1-46a0-b3e7-a22aa7257a81",
   "metadata": {},
   "outputs": [],
   "source": []
  }
 ],
 "metadata": {
  "kernelspec": {
   "display_name": "Python 3 (ipykernel)",
   "language": "python",
   "name": "python3"
  },
  "language_info": {
   "codemirror_mode": {
    "name": "ipython",
    "version": 3
   },
   "file_extension": ".py",
   "mimetype": "text/x-python",
   "name": "python",
   "nbconvert_exporter": "python",
   "pygments_lexer": "ipython3",
   "version": "3.12.3"
  }
 },
 "nbformat": 4,
 "nbformat_minor": 5
}
